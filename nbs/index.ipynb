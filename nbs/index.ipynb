{
 "cells": [
  {
   "cell_type": "code",
   "execution_count": null,
   "metadata": {},
   "outputs": [],
   "source": [
    "#hide\n"
   ]
  },
  {
   "cell_type": "markdown",
   "metadata": {},
   "source": [
    "# Schedule Builder\n",
    "\n",
    "> Build and evaluate a building schedule"
   ]
  },
  {
   "cell_type": "markdown",
   "metadata": {},
   "source": [
    "## Quick Start\n",
    "\n",
    "Create a yaml file to describe the schedule of your building.  This one means the building is `occupied` from 6:30AM to 6:30PM every weekday that isn't a holiday"
   ]
  },
  {
   "cell_type": "code",
   "execution_count": null,
   "metadata": {},
   "outputs": [],
   "source": [
    "import yaml\n",
    "import pandas as pd\n",
    "\n",
    "from schedulebuilder import Schedule\n",
    "\n",
    "config = '''\n",
    "daytypes:\n",
    "      - name: workday\n",
    "        day:\n",
    "            periods:\n",
    "                - start: '6:30'\n",
    "                  end: '18:30'\n",
    "                  status: occupied\n",
    "            name: workday\n",
    "        logic: \n",
    "            - include: weekdays\n",
    "            - exclude: holidays\n",
    "'''\n",
    "config = yaml.safe_load(config)"
   ]
  },
  {
   "cell_type": "code",
   "execution_count": null,
   "metadata": {},
   "outputs": [],
   "source": [
    "sched = Schedule(**config)"
   ]
  },
  {
   "cell_type": "markdown",
   "metadata": {},
   "source": [
    "Now you can evaluate whether the building is `occupied` at any given date and time."
   ]
  },
  {
   "cell_type": "code",
   "execution_count": null,
   "metadata": {},
   "outputs": [
    {
     "data": {
      "text/plain": [
       "True"
      ]
     },
     "execution_count": null,
     "metadata": {},
     "output_type": "execute_result"
    }
   ],
   "source": [
    "pdt = pd.to_datetime\n",
    "jul6_at_noon = pdt('2021-07-06 12:00')\n",
    "sched.is_occupied(jul6_at_noon)"
   ]
  },
  {
   "cell_type": "code",
   "execution_count": null,
   "metadata": {},
   "outputs": [
    {
     "data": {
      "text/plain": [
       "False"
      ]
     },
     "execution_count": null,
     "metadata": {},
     "output_type": "execute_result"
    }
   ],
   "source": [
    "jul6_late_at_night = pdt('2021-07-06 23:00')\n",
    "sched.is_occupied(jul6_late_at_night)"
   ]
  },
  {
   "cell_type": "code",
   "execution_count": null,
   "metadata": {},
   "outputs": [
    {
     "data": {
      "text/plain": [
       "False"
      ]
     },
     "execution_count": null,
     "metadata": {},
     "output_type": "execute_result"
    }
   ],
   "source": [
    "on_newyears = pdt('2021-01-01 12:00')\n",
    "sched.is_occupied(on_newyears)"
   ]
  }
 ],
 "metadata": {
  "kernelspec": {
   "display_name": "Python 3 (ipykernel)",
   "language": "python",
   "name": "python3"
  }
 },
 "nbformat": 4,
 "nbformat_minor": 4
}

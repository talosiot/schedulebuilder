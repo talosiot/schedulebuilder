{
 "cells": [
  {
   "cell_type": "code",
   "execution_count": null,
   "id": "b76c53ef-7512-43e8-9385-5eef9268b93b",
   "metadata": {},
   "outputs": [],
   "source": [
    "# default_exp __init__\n",
    "# hide\n",
    "import unittest\n",
    "from unittest import mock\n",
    "import os\n",
    "TESTCASE = unittest.TestCase()"
   ]
  },
  {
   "cell_type": "code",
   "execution_count": null,
   "id": "52941db6-a527-477a-8ea3-0b3b31fa67d2",
   "metadata": {},
   "outputs": [],
   "source": [
    "#export\n",
    "_FNAME='init'"
   ]
  },
  {
   "cell_type": "code",
   "execution_count": null,
   "id": "38301125-8a76-46d4-a78a-d1d0546cd622",
   "metadata": {},
   "outputs": [],
   "source": [
    "#export\n",
    "import datetime\n",
    "import pandas as pd\n",
    "import holidays\n",
    "import logging\n",
    "logger = logging.getLogger()\n",
    "\n",
    "from pydantic import BaseModel, validator\n",
    "from typing import List, Optional, Union\n",
    "from collections import OrderedDict"
   ]
  },
  {
   "cell_type": "markdown",
   "id": "6a5b7939-a5ae-462b-a938-5538a13c6a3a",
   "metadata": {},
   "source": [
    "# Scheduling\n",
    "\n",
    "A nice interface to write a building schedule"
   ]
  },
  {
   "cell_type": "code",
   "execution_count": null,
   "id": "24bb0bc2-4ab1-436d-82fa-62a7ef96ee4b",
   "metadata": {},
   "outputs": [],
   "source": [
    "pdt = pd.to_datetime"
   ]
  },
  {
   "cell_type": "markdown",
   "id": "79bfaf4e-78c5-4e71-b5d2-da14f7ce3132",
   "metadata": {},
   "source": [
    "## 🕒 Period\n",
    "A period is a uninterupted stretch of time that is all the same status.  \n",
    "E.g. `{'start': \"9:00\", 'end': \"15:00\", 'status': 'occupied'}` means the building is occupied from 9am-5pm."
   ]
  },
  {
   "cell_type": "code",
   "execution_count": null,
   "id": "96a92257-9a1d-4ad5-9c96-e7846cf4a0b3",
   "metadata": {},
   "outputs": [],
   "source": [
    "#export \n",
    "class Period(BaseModel):\n",
    "    start: datetime.time\n",
    "    end: datetime.time\n",
    "    status: Optional[str] = 'occupied'\n",
    "    def __repr__(self):\n",
    "        return '<{stat} Period {s}-{e}>'.format(stat=self.status, s=self.start, e=self.end)\n",
    "    def __str__(self):\n",
    "        return self.__repr__()\n",
    "    def during(self, ts) -> bool:\n",
    "        '''\n",
    "        ts: a timestamp. Can be a datetime or any other obj with a .time() method.\n",
    "        If no .time method exists, ts can also be any object that can be compared with datetime.time objects\n",
    "        '''\n",
    "        try:\n",
    "            tod = ts.time()\n",
    "        except AttributeError:\n",
    "            tod=ts\n",
    "        #end needs to be <= to allow for a 24 hour day\n",
    "        return self.start <= tod <= self.end   \n",
    "    "
   ]
  },
  {
   "cell_type": "code",
   "execution_count": null,
   "id": "abcb1d9f-bfa2-4877-8f09-4ae080b12188",
   "metadata": {},
   "outputs": [
    {
     "data": {
      "text/plain": [
       "'<occupied Period 00:00:00-00:00:00>'"
      ]
     },
     "execution_count": null,
     "metadata": {},
     "output_type": "execute_result"
    }
   ],
   "source": [
    "Period(**{'start': \"9:00\", 'end': \"15:00\", 'status': 'some other status'})\n",
    "str(Period(**{'start': \"0:00\", 'end': \"0:00\"}))"
   ]
  },
  {
   "cell_type": "code",
   "execution_count": null,
   "id": "8c36d58d-fbbb-458c-ac87-6fec05e55ec4",
   "metadata": {},
   "outputs": [],
   "source": [
    "def test_opening():\n",
    "    per = Period(**{'start': \"6:00\", 'end': \"18:00\"})\n",
    "    TESTCASE.assertTrue(per.during( pdt('2021-01-01 6:01')  ))\n",
    "    TESTCASE.assertFalse(per.during( pdt('2021-01-01 20:00')  ))  \n",
    "\n",
    "    alwayson = Period(start=\"0:00\", end=\"0:00\", status='some other status')\n",
    "    TESTCASE.assertTrue(alwayson.during( pdt('2021-01-01 00:00')))\n",
    "    \n",
    "test_opening()"
   ]
  },
  {
   "cell_type": "markdown",
   "id": "67760358-da96-46b3-a2e8-ddaac52d869d",
   "metadata": {},
   "source": [
    "## ☀️ Day 🌗 \n",
    "A day is made up of zero or more periods.  These periods can have different statuses if you want.  You can then ask the day whether a certain time of day falls within any period of a given status.  \n",
    "> e.g. is 10:32 during occupied hours?"
   ]
  },
  {
   "cell_type": "code",
   "execution_count": null,
   "id": "caf05f6b-92ff-4023-9d77-4762b1234742",
   "metadata": {},
   "outputs": [],
   "source": [
    "#export\n",
    "class Day(BaseModel):\n",
    "    '''\n",
    "    A type of day that contains the periods listed\n",
    "    If a single period is given, that is the only period for the dat\n",
    "    '''\n",
    "    periods: List[Period]=[]\n",
    "    name: Optional[str]=None\n",
    "        \n",
    "    def __repr__(self):\n",
    "        name = self.name or ''\n",
    "        return '<{n} Day: {periods}>'.format(n=name, periods=self.periods)\n",
    "    def __str__(self):\n",
    "        return self.__repr__()    \n",
    "        \n",
    "    def within_period(self, ts, status='occupied') -> bool:\n",
    "        checks = [p.during(ts) for p in self.periods if p.status==status]\n",
    "        return sum(checks) >= 1"
   ]
  },
  {
   "cell_type": "code",
   "execution_count": null,
   "id": "3b9919a2-c869-4195-a3e7-c6f9c9feb20b",
   "metadata": {},
   "outputs": [
    {
     "name": "stdout",
     "output_type": "stream",
     "text": [
      "<workday Day: [<occupied Period 09:00:00-17:00:00>]>\n"
     ]
    }
   ],
   "source": [
    "import yaml\n",
    "day_config = yaml.safe_load('''\n",
    "    periods:\n",
    "        - start: '9:00'\n",
    "          end: '17:00'\n",
    "          status: occupied\n",
    "    name: workday\n",
    "''')\n",
    "\n",
    "closed_for_lunch = yaml.safe_load('''\n",
    "    periods:\n",
    "        - start: '9:00'\n",
    "          end: '12:00'\n",
    "          status: occupied\n",
    "        - start: '13:00'\n",
    "          end: '20:00'\n",
    "          status: occupied\n",
    "    name: split_workday\n",
    "''')\n",
    "\n",
    "def test_day():\n",
    "    day = Day(**day_config)\n",
    "    print(day)\n",
    "    #too early\n",
    "    TESTCASE.assertFalse(day.within_period( pdt('2021-01-01 8:00')))\n",
    "    #1 min into the workday\n",
    "    TESTCASE.assertTrue(day.within_period( pdt('2021-01-01 9:01')))\n",
    "    #status of the period does not match the passed in status\n",
    "    TESTCASE.assertFalse(day.within_period( pdt('2021-01-01 9:01'), status='otherstatus')) \n",
    "    \n",
    "    cfl = Day(**closed_for_lunch)\n",
    "    #too early\n",
    "    TESTCASE.assertFalse(cfl.within_period( pdt('2021-01-01 8:00')))\n",
    "    #1 min into the workday\n",
    "    TESTCASE.assertTrue(cfl.within_period( pdt('2021-01-01 9:01')))\n",
    "    #lunch\n",
    "    TESTCASE.assertFalse(cfl.within_period( pdt('2021-01-01 12:01')))\n",
    "    #1 min into the workday\n",
    "    TESTCASE.assertTrue(cfl.within_period( pdt('2021-01-01 19:59')))\n",
    "    \n",
    "test_day()"
   ]
  },
  {
   "cell_type": "code",
   "execution_count": null,
   "id": "94d0f376-eb80-407a-b1c6-501ac455dd9f",
   "metadata": {},
   "outputs": [],
   "source": [
    "#export\n",
    "\n",
    "Unoccupied = Day(name='Unoccupied')\n",
    "AlwaysOn = Day(name=\"24h\", periods=[Period(start=\"0:00\", end=\"0:00\")])"
   ]
  },
  {
   "cell_type": "markdown",
   "id": "a66b5bf8-a531-4cb8-b43f-77215c8b1d62",
   "metadata": {},
   "source": [
    "## 🤔 Logic\n",
    "After defining different types of days (e.g. workdays, offdays, etc) we need logic to see whether a certain date corresponds to that type of day."
   ]
  },
  {
   "cell_type": "code",
   "execution_count": null,
   "id": "acaac364-883f-4a7c-887f-d624b9386020",
   "metadata": {},
   "outputs": [],
   "source": [
    "#export\n",
    "\n",
    "def always(ts):\n",
    "    return True\n",
    "\n",
    "def is_weekend(ts):\n",
    "    '''\n",
    "    Pandas defines the day of the week with Monday=0, Sunday=6.\n",
    "    '''\n",
    "    dayofweek = ts.dayofweek\n",
    "    return dayofweek >= 5\n",
    "\n",
    "def is_weekday(ts):\n",
    "    dayofweek = ts.dayofweek\n",
    "    return dayofweek <= 4\n",
    "\n",
    "def is_holiday(ts, holiday_calendar='US'):\n",
    "    _holiday_calendars = {'US': holidays.UnitedStates()}\n",
    "    hcal = _holiday_calendars.get(holiday_calendar, holiday_calendar)\n",
    "    return ts.date() in hcal\n",
    "\n",
    "def is_month(ts, months):\n",
    "    return ts.month in months\n",
    "\n",
    "LOGIC = {'weekends': is_weekend,\n",
    "         'weekend': is_weekend,\n",
    "         'weekdays': is_weekday,\n",
    "         'weekday': is_weekday,\n",
    "         'holidays': is_holiday,\n",
    "         'holiday': is_holiday,         \n",
    "         'always': always,\n",
    "         'months': is_month\n",
    "        }"
   ]
  },
  {
   "cell_type": "code",
   "execution_count": null,
   "id": "15eedeec-0615-4255-8c1b-a6f404d42ee1",
   "metadata": {},
   "outputs": [],
   "source": [
    "TESTCASE.assertTrue(is_month(pdt('2021-11-01'), [11, 12]))\n",
    "#because july 4th 2021 was a sunday\n",
    "TESTCASE.assertTrue(is_weekend(pdt('2021-07-04')))\n",
    "#july 5th was a holiday in the US on 2021, because july 4th was a sunday\n",
    "TESTCASE.assertTrue(is_holiday(pdt('2021-07-05')))"
   ]
  },
  {
   "cell_type": "code",
   "execution_count": null,
   "id": "15e4b49d-0989-4138-a8bd-93e7fda7f9ce",
   "metadata": {},
   "outputs": [],
   "source": [
    "#export\n",
    "class Logic(BaseModel):\n",
    "    include: Optional[str]\n",
    "    exclude: Optional[str]\n",
    "    kwargs: Optional[dict]={}\n",
    "        \n",
    "    @validator('include')\n",
    "    @validator('exclude')    \n",
    "    def func_must_be_a_known_name(cls, logic_string):\n",
    "        if logic_string not in LOGIC:\n",
    "            raise ValueError(\"logic must be one of {}\".format(LOGIC.keys()))\n",
    "        return logic_string\n",
    "    \n",
    "    def evaluate(self, ts) -> bool:\n",
    "        '''\n",
    "        Returns True if the function named in self.func evaluates to true\n",
    "        '''\n",
    "        func_name = self.include or self.exclude\n",
    "        func = LOGIC[func_name]\n",
    "        result = func(ts, **self.kwargs)\n",
    "        if self.exclude:\n",
    "            result = not result\n",
    "        return result\n",
    "    "
   ]
  },
  {
   "cell_type": "code",
   "execution_count": null,
   "id": "a3982d9f-4d66-43f0-99c0-f3e915325c1b",
   "metadata": {},
   "outputs": [],
   "source": [
    "def test_logic():\n",
    "    with TESTCASE.assertRaises(ValueError):\n",
    "        log = Logic(include='doesnotexist')\n",
    "\n",
    "    #always will give you true for any value\n",
    "    TESTCASE.assertTrue(Logic(include='always').evaluate(0))\n",
    "\n",
    "    halloween = yaml.safe_load('''\n",
    "    include: months\n",
    "    kwargs:\n",
    "        months: \n",
    "            - 10\n",
    "    ''')\n",
    "    TESTCASE.assertTrue(Logic(**halloween).evaluate(pdt('2020-10-31')))\n",
    "    \n",
    "    closed_on_holidays = yaml.safe_load('''\n",
    "    exclude: holidays\n",
    "    kwargs:\n",
    "        holiday_calendar: US\n",
    "    ''')\n",
    "    TESTCASE.assertFalse(Logic(**closed_on_holidays).evaluate(pdt('2020-12-25')))\n",
    "    \n",
    "test_logic()"
   ]
  },
  {
   "cell_type": "code",
   "execution_count": null,
   "id": "7d970ed9-c1d8-4c1d-aca4-89b3e29d22e2",
   "metadata": {},
   "outputs": [],
   "source": [
    "#export\n",
    "class Logics(BaseModel):\n",
    "    '''\n",
    "    Logics is a chain of logic, linked together with AND\n",
    "    '''\n",
    "    logic: List[Logic] = []\n",
    "    def evaluate(self, ts) -> bool:\n",
    "        '''\n",
    "        Returns True if ALL the functions in self.funcs evaluate to True.\n",
    "        Returns False otherwise.\n",
    "        Returns False if the list of self.funcs is empty.\n",
    "        '''\n",
    "        result = False\n",
    "        #a Logics with no funcs always returns False\n",
    "        for logic in self.logic:\n",
    "            result = logic.evaluate(ts)\n",
    "            if result is False:\n",
    "                return False\n",
    "        return result"
   ]
  },
  {
   "cell_type": "code",
   "execution_count": null,
   "id": "e5a3900d-a5e3-42ce-9b46-e1c82e8b9c42",
   "metadata": {},
   "outputs": [],
   "source": [
    "   \n",
    "def test_logics():\n",
    "    october_weekdays = yaml.safe_load('''\n",
    "    logic:\n",
    "        - include: months\n",
    "          kwargs:\n",
    "            months:\n",
    "                - 10\n",
    "        - include: weekday\n",
    "    ''')\n",
    "    octs = Logics(**october_weekdays)\n",
    "    \n",
    "    #true for october weekday\n",
    "    TESTCASE.assertTrue(octs.evaluate(pdt('2020-10-30')))\n",
    "    #halloween was a saturday        \n",
    "    TESTCASE.assertFalse(octs.evaluate(pdt('2020-10-31')))    \n",
    "    #false for any day in november\n",
    "    TESTCASE.assertFalse(octs.evaluate(pdt('2020-11-10')))    \n",
    "\n",
    "    # order doesnt matter since the logic is AND\n",
    "    october_weekdays_reversed = yaml.safe_load('''\n",
    "    logic:\n",
    "        - include: weekday    \n",
    "        - include: months\n",
    "          kwargs:\n",
    "            months:\n",
    "                - 10\n",
    "    ''')\n",
    "    octs_rev = Logics(**october_weekdays_reversed)\n",
    "    #true for october weekday\n",
    "    TESTCASE.assertTrue(octs_rev.evaluate(pdt('2020-10-30')))\n",
    "    #halloween was a saturday        \n",
    "    TESTCASE.assertFalse(octs_rev.evaluate(pdt('2020-10-31')))    \n",
    "    #false for any day in november\n",
    "    TESTCASE.assertFalse(octs_rev.evaluate(pdt('2020-11-10')))\n",
    "    \n",
    "    weekdays_no_holidays = yaml.safe_load('''\n",
    "    logic:\n",
    "        - include: weekdays   \n",
    "        - exclude: holidays\n",
    "    ''')\n",
    "    #july 5th 2021 was a monday observation of independence day\n",
    "    wnh = Logics(**weekdays_no_holidays)\n",
    "    TESTCASE.assertFalse(wnh.evaluate(pdt('2021-07-05')))\n",
    "    TESTCASE.assertTrue(wnh.evaluate(pdt('2021-07-06')))\n",
    "    \n",
    "    #empty lists always evaluate to false\n",
    "    TESTCASE.assertFalse(Logics(funcs=[]).evaluate(0))\n",
    "test_logics()"
   ]
  },
  {
   "cell_type": "markdown",
   "id": "7e7b27af-e4d2-462c-8419-d04f7cc0b406",
   "metadata": {},
   "source": [
    "## Day Types\n",
    "\n",
    "Attach the built-in logic to a day"
   ]
  },
  {
   "cell_type": "code",
   "execution_count": null,
   "id": "a1ad9b26-a8ee-4852-b767-df5349a21689",
   "metadata": {},
   "outputs": [],
   "source": [
    "#export\n",
    "\n",
    "class DayType(BaseModel):\n",
    "    name:str\n",
    "    logics:Logics\n",
    "    day:Day\n",
    "            \n",
    "    def evaluate(self, ts) -> Union[Day, None]:\n",
    "        '''\n",
    "        Returns the day object if it evaluates to true for the given timestamp ts.\n",
    "        Otherwise, returns None\n",
    "        '''\n",
    "        if self.logics.evaluate(ts):\n",
    "            return self.day"
   ]
  },
  {
   "cell_type": "code",
   "execution_count": null,
   "id": "ea25c122-76f7-43aa-8694-9de4a68d86b2",
   "metadata": {},
   "outputs": [],
   "source": [
    "def test_daytype():\n",
    "    workday = yaml.safe_load('''\n",
    "    name: workday-type\n",
    "    day:\n",
    "        periods:\n",
    "            - start: '9:00'\n",
    "              end: '17:00'\n",
    "              status: occupied\n",
    "        name: workday\n",
    "    logics:\n",
    "        logic: \n",
    "            - include: weekday\n",
    "    ''')    \n",
    "    dt = DayType(**workday)\n",
    "    TESTCASE.assertIs(dt.evaluate(pdt('2021-07-07')), dt.day)\n",
    "    TESTCASE.assertIsNone(dt.evaluate(pdt('2021-07-10')))\n",
    "test_daytype()"
   ]
  },
  {
   "cell_type": "markdown",
   "id": "31394cca-7023-49c2-8874-599c7902fa71",
   "metadata": {},
   "source": [
    "## 📅 Schedule"
   ]
  },
  {
   "cell_type": "code",
   "execution_count": null,
   "id": "28660f4a-2dff-46d6-ab25-154492be26ec",
   "metadata": {},
   "outputs": [],
   "source": [
    "#export \n",
    "class IncompleteSchedule(Exception):\n",
    "    pass\n",
    "\n",
    "class Schedule(BaseModel):\n",
    "    daytypes:List[DayType] = []        \n",
    "\n",
    "    def find_relevant_day(self, ts):\n",
    "        '''\n",
    "        Returns the first day for which the logic func(**kwargs) evaluates True\n",
    "        '''\n",
    "        for daytype in self.daytypes:\n",
    "            day = daytype.evaluate(ts)\n",
    "            if day:\n",
    "                return day\n",
    "\n",
    "    def is_occupied(self, ts):\n",
    "        return self.check_status(ts, status='occupied')\n",
    "    \n",
    "    def check_status(self, ts, status):\n",
    "        day = self.find_relevant_day(ts)\n",
    "        if day:\n",
    "            return day.within_period(ts)\n",
    "        else:\n",
    "            return False        "
   ]
  },
  {
   "cell_type": "code",
   "execution_count": null,
   "id": "46b76c08-c28c-4ad2-b98d-05cdfe24cb20",
   "metadata": {},
   "outputs": [],
   "source": [
    "def test_schedule():\n",
    "    worksched = yaml.safe_load('''\n",
    "daytypes: \n",
    "      - name: workday-type\n",
    "        day:\n",
    "            periods:\n",
    "                - start: '6:30'\n",
    "                  end: '18:30'\n",
    "                  status: occupied\n",
    "            name: workday\n",
    "        logics:\n",
    "            logic: \n",
    "                - include: weekdays\n",
    "                - exclude: holidays\n",
    "                - exclude: months\n",
    "                  kwargs:\n",
    "                      months: \n",
    "                          - 1\n",
    "      - name: half-day-janurary\n",
    "        day: \n",
    "            periods:\n",
    "                - start: '6:30'\n",
    "                  end: '12:00'\n",
    "                  status: 'occupied'\n",
    "            name: halfday\n",
    "        logics: \n",
    "            logic: \n",
    "                - include: weekdays\n",
    "                - include: months\n",
    "                  kwargs:\n",
    "                      months:\n",
    "                          - 1\n",
    "    ''')\n",
    "    sched = Schedule(**worksched)    \n",
    "    jul6 = pdt('2021-07-06 01:00')\n",
    "    #jul 6 picks up the workday-type of day\n",
    "    TESTCASE.assertIs(sched.find_relevant_day(jul6), sched.daytypes[0].day)\n",
    "    #but it evaluates to unoccupied at 1am\n",
    "    TESTCASE.assertFalse(sched.is_occupied(jul6))\n",
    "    jul6noon = pdt('2021-07-06 12:00')\n",
    "    TESTCASE.assertIs(sched.find_relevant_day(jul6noon), sched.daytypes[0].day)\n",
    "    #however it is occupied at noon\n",
    "    TESTCASE.assertTrue(sched.is_occupied(jul6noon))\n",
    "    \n",
    "    #they work a half day all weekdays in jan.\n",
    "    jan1 = pdt('2021-01-01 08:00')\n",
    "    TESTCASE.assertIs(sched.find_relevant_day(jan1), sched.daytypes[1].day)\n",
    "    TESTCASE.assertTrue(sched.is_occupied(jan1))\n",
    "    \n",
    "    #but jan2 is a saturday\n",
    "    TESTCASE.assertFalse(sched.is_occupied(pdt('2021-01-02 08:00')))\n",
    "    \n",
    "test_schedule()"
   ]
  },
  {
   "cell_type": "code",
   "execution_count": null,
   "id": "f69466de-700e-43ea-853e-c5a9fa79fbf3",
   "metadata": {},
   "outputs": [
    {
     "name": "stdout",
     "output_type": "stream",
     "text": [
      "Converted init.ipynb.\n"
     ]
    }
   ],
   "source": [
    "from nbdev.export import notebook2script\n",
    "_nbpath = os.path.join(_dh[0], _FNAME+'.ipynb')\n",
    "notebook2script(_nbpath)"
   ]
  }
 ],
 "metadata": {
  "kernelspec": {
   "display_name": "Python 3 (ipykernel)",
   "language": "python",
   "name": "python3"
  }
 },
 "nbformat": 4,
 "nbformat_minor": 5
}
